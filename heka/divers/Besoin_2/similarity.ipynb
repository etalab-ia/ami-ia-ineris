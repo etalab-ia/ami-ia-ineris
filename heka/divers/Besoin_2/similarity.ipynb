{
 "cells": [
  {
   "cell_type": "markdown",
   "metadata": {},
   "source": [
    "# 1 - Import des librairies"
   ]
  },
  {
   "cell_type": "code",
   "execution_count": 1,
   "metadata": {},
   "outputs": [],
   "source": [
    "import pandas as pd\n",
    "from math import floor\n",
    "import seaborn as sns\n",
    "import matplotlib.pyplot as plt\n",
    "import matplotlib.patches as mpatches\n",
    "import numpy as np\n",
    "import intervals as I\n",
    "from scipy import stats"
   ]
  },
  {
   "cell_type": "markdown",
   "metadata": {},
   "source": [
    "# 2 - Définition des fonctions"
   ]
  },
  {
   "cell_type": "code",
   "execution_count": 2,
   "metadata": {},
   "outputs": [],
   "source": [
    "def dist_intervalle(interval1, interval2):\n",
    "    c1 = (interval1.lower + interval1.upper) / 2\n",
    "    c2 = (interval2.lower + interval2.upper) / 2\n",
    "    r1 = c1 - interval1.lower\n",
    "    r2 = c2 - interval1.lower\n",
    "    return np.sqrt((c1 - c2)**2 + (r1 - r2)**2)"
   ]
  },
  {
   "cell_type": "code",
   "execution_count": 3,
   "metadata": {},
   "outputs": [],
   "source": [
    "def score1(ds1, ds2, parameter):\n",
    "    mean1 = np.mean(ds1)[0]\n",
    "    mean2 = np.mean(ds2)[0]\n",
    "    var1 = np.std(ds1)[0]\n",
    "    var2 = np.std(ds2)[0]\n",
    "    intervalle1 = I.closed(mean1 - parameter * var1, mean1 + parameter * var1)\n",
    "    intervalle2 = I.closed(mean2 - parameter * var2, mean2 + parameter * var2)\n",
    "    intervalle_total = intervalle1 & intervalle2\n",
    "    nb_ds1 = len(ds1[[i in intervalle_total for i in ds1[\"Value\"].values]])\n",
    "    nb_ds2 = len(ds2[[i in intervalle_total for i in ds2[\"Value\"].values]])\n",
    "    score = (nb_ds1 + nb_ds2) / ((len(ds1) + len(ds2)) * (1 + dist_intervalle(intervalle1.to_atomic(), intervalle2.to_atomic())))\n",
    "    return score"
   ]
  },
  {
   "cell_type": "code",
   "execution_count": 4,
   "metadata": {},
   "outputs": [],
   "source": [
    "def score2(ds1, ds2):\n",
    "    score = 0\n",
    "    a = 0\n",
    "    percentile_list = (0.05, 0.25, 0.5, 0.75, 0.95)\n",
    "    for i in range(len(percentile_list) - 1):\n",
    "        percentile = percentile_list[i]\n",
    "        percentile_next = percentile_list[i+1]\n",
    "        if(ds1.quantile(percentile)[0] < ds1.quantile(percentile_next)[0] and ds2.quantile(percentile)[0] < ds2.quantile(percentile_next)[0]) :\n",
    "            interval1 = I.closed(ds1.quantile(percentile)[0], ds1.quantile(percentile_next)[0])\n",
    "            interval2 = I.closed(ds2.quantile(percentile)[0], ds2.quantile(percentile_next)[0])\n",
    "            score += dist_intervalle(interval1.to_atomic(), interval2.to_atomic())\n",
    "        else:\n",
    "            a += 1\n",
    "    score = 1 / (1 + score / (len(percentile_list) - 1 - a))\n",
    "    return score"
   ]
  },
  {
   "cell_type": "markdown",
   "metadata": {},
   "source": [
    "# 3 - Création des données"
   ]
  },
  {
   "cell_type": "code",
   "execution_count": 5,
   "metadata": {},
   "outputs": [],
   "source": [
    "alpha = 1\n",
    "beta = 0\n",
    "n = 500\n",
    "rvs1 = stats.norm.rvs(size=n, loc=0., scale=1) * alpha + beta\n",
    "rvs2 = stats.norm.rvs(size=n, loc=0.1, scale=1) * alpha + beta\n",
    "rvs3 = stats.norm.rvs(size=n, loc=0.5, scale=1) * alpha + beta"
   ]
  },
  {
   "cell_type": "markdown",
   "metadata": {},
   "source": [
    "## 4.1 Analyse classique"
   ]
  },
  {
   "cell_type": "code",
   "execution_count": 6,
   "metadata": {},
   "outputs": [
    {
     "data": {
      "image/png": "[encoded data removed]",
      "text/plain": [
       "<Figure size 2160x720 with 4 Axes>"
      ]
     },
     "metadata": {
      "needs_background": "light"
     },
     "output_type": "display_data"
    },
    {
     "name": "stdout",
     "output_type": "stream",
     "text": [
      "Mean A : 0.041676305078575525 \n",
      "Mean B : 0.13836814933359268 \n",
      "Mean C : 0.5489671231866772 \n",
      "Variance A : 1.0028216148713662 \n",
      "Variance B : 0.990982792294121 \n",
      "Variance C : 0.9603943248361099\n"
     ]
    }
   ],
   "source": [
    "range_max = n / 2\n",
    "nb_bins = 10\n",
    "\n",
    "f = plt.figure(figsize=(30,10))\n",
    "ax = f.add_subplot(1,4, 1)\n",
    "ax = plt.hist(rvs1, bins = nb_bins, label = \"A = Gaussienne à 0\")\n",
    "plt.title(\"Data A\")\n",
    "plt.ylim(0, range_max)\n",
    "plt.grid()\n",
    "plt.legend()\n",
    "ax = f.add_subplot(1,4, 2)\n",
    "ax = plt.hist(rvs2, bins = nb_bins, label = \"B = Gaussienne à 0.1\")\n",
    "plt.title(\"Data B\")\n",
    "plt.ylim(0, range_max)\n",
    "plt.grid()\n",
    "plt.legend()\n",
    "ax = f.add_subplot(1,4, 3)\n",
    "ax = plt.hist(rvs3, bins = nb_bins, label = \"C = Gaussienne à 0.5\")\n",
    "plt.title(\"Data C\")\n",
    "plt.ylim(0, range_max)\n",
    "plt.grid()\n",
    "plt.legend()\n",
    "\n",
    "ax = f.add_subplot(1,4, 4)\n",
    "df = pd.DataFrame(columns = [\"A\", \"B\"])\n",
    "df[\"A\"] = rvs1\n",
    "df[\"B\"] = rvs2\n",
    "df[\"C\"] = rvs3\n",
    "ax = sns.boxplot(data=df)\n",
    "plt.grid()\n",
    "plt.show()\n",
    "\n",
    "print(\"Mean A :\", np.mean(rvs1), \"\\nMean B :\", np.mean(rvs2), \"\\nMean C :\", np.mean(rvs3),\n",
    "      \"\\nVariance A :\", np.var(rvs1), \"\\nVariance B :\", np.var(rvs2), \"\\nVariance C :\", np.var(rvs3))"
   ]
  },
  {
   "cell_type": "markdown",
   "metadata": {},
   "source": [
    "## 4.2 Analyse statistique"
   ]
  },
  {
   "cell_type": "markdown",
   "metadata": {},
   "source": [
    "### 4.2.a Test de Kolmogorov Smirnov (égalité des distributions)"
   ]
  },
  {
   "cell_type": "code",
   "execution_count": 7,
   "metadata": {},
   "outputs": [
    {
     "name": "stdout",
     "output_type": "stream",
     "text": [
      "A x B :  KstestResult(statistic=0.064, pvalue=0.25760726053364696) \n",
      "A x C :  KstestResult(statistic=0.226, pvalue=1.3335106305083125e-11) \n",
      "B x C :  KstestResult(statistic=0.184, pvalue=8.2169644411341e-08)\n"
     ]
    }
   ],
   "source": [
    "print(\"A x B : \", stats.ks_2samp(rvs1, rvs2),\n",
    "      \"\\nA x C : \", stats.ks_2samp(rvs1, rvs3),\n",
    "      \"\\nB x C : \", stats.ks_2samp(rvs3, rvs2))"
   ]
  },
  {
   "cell_type": "markdown",
   "metadata": {},
   "source": [
    "### 4.2.b T test (égalité des moyennes)"
   ]
  },
  {
   "cell_type": "code",
   "execution_count": 8,
   "metadata": {},
   "outputs": [
    {
     "name": "stdout",
     "output_type": "stream",
     "text": [
      "A x B :  Ttest_indResult(statistic=-1.5296738443983127, pvalue=0.12641436434013023) \n",
      "A x C :  Ttest_indResult(statistic=-8.08766657874048, pvalue=1.7530785839046194e-15) \n",
      "B x C :  Ttest_indResult(statistic=6.565949354256553, pvalue=8.301619036277058e-11)\n"
     ]
    }
   ],
   "source": [
    "print(\"A x B : \", stats.ttest_ind(rvs1, rvs2),\n",
    "      \"\\nA x C : \", stats.ttest_ind(rvs1, rvs3),\n",
    "      \"\\nB x C : \", stats.ttest_ind(rvs3, rvs2))"
   ]
  },
  {
   "cell_type": "markdown",
   "metadata": {},
   "source": [
    "## 4.3 Analyse topologique"
   ]
  },
  {
   "cell_type": "markdown",
   "metadata": {},
   "source": [
    "### 4.3.a Premier score"
   ]
  },
  {
   "cell_type": "code",
   "execution_count": 9,
   "metadata": {},
   "outputs": [
    {
     "name": "stdout",
     "output_type": "stream",
     "text": [
      "A x B :  0.8807977488313603 \n",
      "A x C :  0.589811578270077 \n",
      "B x C :  0.6409753923139141\n"
     ]
    }
   ],
   "source": [
    "print(\"A x B : \", score2(df[[\"A\"]], df[[\"B\"]]),\n",
    "      \"\\nA x C : \", score2(df[[\"A\"]], df[[\"C\"]]),\n",
    "      \"\\nB x C : \", score2(df[[\"B\"]], df[[\"C\"]]))"
   ]
  },
  {
   "cell_type": "markdown",
   "metadata": {},
   "source": [
    "### 4.3.a Second score"
   ]
  },
  {
   "cell_type": "code",
   "execution_count": 10,
   "metadata": {},
   "outputs": [],
   "source": [
    "mean_AB = np.mean(df[\"A\"].append(df[\"B\"]))\n",
    "mean_AC = np.mean(df[\"A\"].append(df[\"C\"]))\n",
    "mean_BC = np.mean(df[\"B\"].append(df[\"C\"]))\n",
    "std_A = np.std(df[\"A\"])\n",
    "std_B = np.std(df[\"B\"])\n",
    "std_C = np.std(df[\"C\"])\n",
    "A_ab = (df[[\"A\"]] - mean_AB) * std_B / (std_A**2)\n",
    "B_ab = (df[[\"B\"]] - mean_AB) * std_A / (std_B**2)\n",
    "A_ac = (df[[\"A\"]] - mean_AC) * std_C / (std_A**2)\n",
    "C_ac = (df[[\"C\"]] - mean_AC) * std_A / (std_C**2)\n",
    "B_bc = (df[[\"B\"]] - mean_BC) * std_C / (std_B**2) \n",
    "C_bc = (df[[\"C\"]] - mean_BC) * std_B / (std_C**2)"
   ]
  },
  {
   "cell_type": "code",
   "execution_count": 11,
   "metadata": {},
   "outputs": [
    {
     "name": "stdout",
     "output_type": "stream",
     "text": [
      "A x B :  0.8807984521008131 \n",
      "A x C :  0.5879165821759764 \n",
      "B x C :  0.6385101900349697\n"
     ]
    }
   ],
   "source": [
    "print(\"A x B : \", score2(A_ab, B_ab),\n",
    "      \"\\nA x C : \", score2(A_ac, C_ac),\n",
    "      \"\\nB x C : \", score2(B_bc, C_bc))"
   ]
  },
  {
   "cell_type": "code",
   "execution_count": 13,
   "metadata": {},
   "outputs": [
    {
     "data": {
      "text/plain": [
       "ShapiroResult(statistic=0.12780821323394775, pvalue=8.435816755235399e-43)"
      ]
     },
     "execution_count": 13,
     "metadata": {},
     "output_type": "execute_result"
    }
   ],
   "source": [
    "stats.shapiro(np.append(df[\"A\"].values, 100))"
   ]
  },
  {
   "cell_type": "code",
   "execution_count": null,
   "metadata": {},
   "outputs": [],
   "source": []
  },
  {
   "cell_type": "code",
   "execution_count": null,
   "metadata": {},
   "outputs": [],
   "source": []
  }
 ],
 "metadata": {
  "kernelspec": {
   "display_name": "Python 3",
   "language": "python",
   "name": "python3"
  },
  "language_info": {
   "codemirror_mode": {
    "name": "ipython",
    "version": 3
   },
   "file_extension": ".py",
   "mimetype": "text/x-python",
   "name": "python",
   "nbconvert_exporter": "python",
   "pygments_lexer": "ipython3",
   "version": "3.7.7"
  }
 },
 "nbformat": 4,
 "nbformat_minor": 4
}
